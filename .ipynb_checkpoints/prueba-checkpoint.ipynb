{
 "cells": [
  {
   "cell_type": "code",
   "execution_count": 1,
   "metadata": {},
   "outputs": [],
   "source": [
    "# librerias\n",
    "\n",
    "from PIL import Image\n",
    "import pytesseract\n",
    "import cv2"
   ]
  },
  {
   "cell_type": "code",
   "execution_count": 2,
   "metadata": {},
   "outputs": [],
   "source": [
    "def captura():\n",
    "    cam=cv2.VideoCapture(0)\n",
    "    while 1:\n",
    "        ret, frame=cam.read()\n",
    "        cv2.imshow('Captura', frame)\n",
    "        \n",
    "        if ret==False: break\n",
    "        \n",
    "        key=cv2.waitKey(1)\n",
    "        \n",
    "        if key%256==27: break # tecla ESC\n",
    "        \n",
    "        elif key%256==32: # SPACE\n",
    "            img_name='captura.png'\n",
    "            cv2.imwrite(img_name, frame)\n",
    "            print ('Captura guardada')\n",
    "            break\n",
    "            \n",
    "    cam.release()\n",
    "    cv2.destroyAllWindows()"
   ]
  },
  {
   "cell_type": "code",
   "execution_count": 3,
   "metadata": {},
   "outputs": [],
   "source": [
    "# imagen (captura)\n",
    "\n",
    "#captura()\n",
    "#path='captura.png'\n",
    "\n",
    "\n",
    "path='DNIesp.png'"
   ]
  },
  {
   "cell_type": "code",
   "execution_count": 4,
   "metadata": {},
   "outputs": [
    {
     "data": {
      "text/plain": [
       "['APELLIDOS',\n",
       " 'MUESTRA',\n",
       " 'MUESTRA',\n",
       " 'NOMBRE',\n",
       " 'CARMEN',\n",
       " '8x0',\n",
       " 'NACIONALIDAD',\n",
       " 'ESP',\n",
       " 'PECMA',\n",
       " 'DE',\n",
       " 'NACIMIENTO',\n",
       " '01',\n",
       " '01',\n",
       " '1980',\n",
       " 'wu',\n",
       " 'SoPoRT',\n",
       " 'VALIDEZ',\n",
       " 'BAA101204',\n",
       " '01',\n",
       " '01',\n",
       " '2016',\n",
       " 'aan',\n",
       " 'Oo',\n",
       " '98765:']"
      ]
     },
     "execution_count": 4,
     "metadata": {},
     "output_type": "execute_result"
    }
   ],
   "source": [
    "texto=pytesseract.image_to_string(Image.open(path))\n",
    "\n",
    "[e for e in texto.split() if len(e)>1]"
   ]
  },
  {
   "cell_type": "code",
   "execution_count": 5,
   "metadata": {},
   "outputs": [
    {
     "data": {
      "text/plain": [
       "' \\n\\n  \\n \\n\\nAPELLIDOS\\nMUESTRA\\n\\nMUESTRA\\n\\nNOMBRE\\n\\nCARMEN\\n\\n8x0 NACIONALIDAD\\nF ESP\\nPECMA DE NACIMIENTO\\n\\n01 01 1980\\nwu SoPoRT VALIDEZ\\nBAA101204 01 01 2016\\n\\naan Oo\\n\\n \\n\\n \\n\\n&\\n\\n98765:\\n\\x0c'"
      ]
     },
     "execution_count": 5,
     "metadata": {},
     "output_type": "execute_result"
    }
   ],
   "source": [
    "texto"
   ]
  },
  {
   "cell_type": "code",
   "execution_count": null,
   "metadata": {},
   "outputs": [],
   "source": []
  }
 ],
 "metadata": {
  "kernelspec": {
   "display_name": "Python 3",
   "language": "python",
   "name": "python3"
  },
  "language_info": {
   "codemirror_mode": {
    "name": "ipython",
    "version": 3
   },
   "file_extension": ".py",
   "mimetype": "text/x-python",
   "name": "python",
   "nbconvert_exporter": "python",
   "pygments_lexer": "ipython3",
   "version": "3.8.2"
  }
 },
 "nbformat": 4,
 "nbformat_minor": 4
}
