{
 "cells": [
  {
   "cell_type": "code",
   "execution_count": 7,
   "metadata": {},
   "outputs": [],
   "source": [
    "# librerias\n",
    "\n",
    "from PIL import Image\n",
    "import pytesseract\n",
    "import re\n",
    "import ftfy\n",
    "import cv2"
   ]
  },
  {
   "cell_type": "code",
   "execution_count": 8,
   "metadata": {},
   "outputs": [],
   "source": [
    "def captura():\n",
    "    cam=cv2.VideoCapture(0)\n",
    "    while 1:\n",
    "        ret, frame=cam.read()\n",
    "        cv2.imshow('Captura', frame)\n",
    "        \n",
    "        if ret==False: break\n",
    "        \n",
    "        key=cv2.waitKey(1)\n",
    "        \n",
    "        if key%256==27: break # tecla ESC\n",
    "        \n",
    "        elif key%256==32: # SPACE\n",
    "            img_name='captura.png'\n",
    "            cv2.imwrite(img_name, frame)\n",
    "            print ('Captura guardada')\n",
    "            break\n",
    "            \n",
    "    cam.release()\n",
    "    cv2.destroyAllWindows()"
   ]
  },
  {
   "cell_type": "code",
   "execution_count": 9,
   "metadata": {},
   "outputs": [
    {
     "name": "stdout",
     "output_type": "stream",
     "text": [
      "Captura guardada\n"
     ]
    }
   ],
   "source": [
    "# imagen (captura)\n",
    "\n",
    "captura()\n",
    "\n",
    "path='captura.png'"
   ]
  },
  {
   "cell_type": "code",
   "execution_count": 10,
   "metadata": {},
   "outputs": [],
   "source": [
    "args={'image':path, 'process':'cubic'}"
   ]
  },
  {
   "cell_type": "code",
   "execution_count": 11,
   "metadata": {},
   "outputs": [],
   "source": [
    "image=cv2.imread(args['image'])\n",
    "gray=cv2.cvtColor(image, cv2.COLOR_BGR2GRAY)\n",
    "                    \n",
    "                    \n",
    "if args['process']=='thresh':\n",
    "    gray=cv2.threshold(gray, 0, 255,\n",
    "                       cv2.THRESH_BINARY|cv2.THRESH_OTSU)[1]\n",
    "\n",
    "elif args['process']=='adaptive':\n",
    "    gray=cv2.adaptiveThreshold(gray, 255, \n",
    "                               cv2.ADAPTIVE_THRESH_GAUSSIAN_C, \n",
    "                               cv2.THRESH_BINARY, 31, 2)\n",
    "\n",
    "elif args['process']=='linear':\n",
    "    gray=cv2.resize(gray, None, \n",
    "                    fx=2, fy=2, interpolation=cv2.INTER_LINEAR)\n",
    "\n",
    "elif args['process']=='cubic':\n",
    "    gray=cv2.resize(gray, None, \n",
    "                    fx=2, fy=2, interpolation=cv2.INTER_CUBIC)                 \n",
    "                  \n",
    "                  \n",
    "elif args['process']=='blur':\n",
    "    gray=cv2.medianBlur(gray, 3)\n",
    "\n",
    "                  \n",
    "elif args['process']=='bilateral':\n",
    "    gray=cv2.bilateralFilter(gray, 9, 75, 75)\n",
    "\n",
    "                  \n",
    "elif args['process']=='gauss':\n",
    "    gray=cv2.GaussianBlur(gray, (5,5), 0)                  "
   ]
  },
  {
   "cell_type": "code",
   "execution_count": 14,
   "metadata": {},
   "outputs": [
    {
     "data": {
      "text/plain": [
       "['53532444)',\n",
       " 'APELLIONS',\n",
       " 'RODRIGUEZ',\n",
       " 'ALVAREZ',\n",
       " 'vo',\n",
       " 'eene',\n",
       " 'NATAN',\n",
       " 'ten',\n",
       " 'MACIOMALIOAD',\n",
       " 'esp',\n",
       " 'FECHA',\n",
       " '08',\n",
       " 'NACRMENTO.',\n",
       " '05',\n",
       " '03',\n",
       " '1984',\n",
       " 'NUw',\n",
       " 'S0?0aT',\n",
       " 'VALIDEZ',\n",
       " 'BDN165012',\n",
       " '06',\n",
       " '03',\n",
       " '2027',\n",
       " '(Ge',\n",
       " 'ee']"
      ]
     },
     "execution_count": 14,
     "metadata": {},
     "output_type": "execute_result"
    }
   ],
   "source": [
    "texto=pytesseract.image_to_string(Image.open(args['image']))\n",
    "texto=ftfy.fix_text(texto)\n",
    "texto=ftfy.fix_encoding(texto)\n",
    "[e for e in texto.split() if len(e)>1]"
   ]
  },
  {
   "cell_type": "code",
   "execution_count": null,
   "metadata": {},
   "outputs": [],
   "source": []
  },
  {
   "cell_type": "code",
   "execution_count": null,
   "metadata": {},
   "outputs": [],
   "source": []
  }
 ],
 "metadata": {
  "kernelspec": {
   "display_name": "Python 3",
   "language": "python",
   "name": "python3"
  },
  "language_info": {
   "codemirror_mode": {
    "name": "ipython",
    "version": 3
   },
   "file_extension": ".py",
   "mimetype": "text/x-python",
   "name": "python",
   "nbconvert_exporter": "python",
   "pygments_lexer": "ipython3",
   "version": "3.8.2"
  }
 },
 "nbformat": 4,
 "nbformat_minor": 4
}
